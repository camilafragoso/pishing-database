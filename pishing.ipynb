{
 "cells": [
  {
   "cell_type": "code",
   "execution_count": 6,
   "metadata": {},
   "outputs": [],
   "source": [
    "import pandas as pd\n",
    "import seaborn as sns\n",
    "import csv\n",
    "from sklearn.metrics import accuracy_score, precision_score, recall_score, f1_score"
   ]
  },
  {
   "cell_type": "markdown",
   "metadata": {},
   "source": [
    "# Abrindo o arquivo CSV"
   ]
  },
  {
   "cell_type": "code",
   "execution_count": 7,
   "metadata": {},
   "outputs": [],
   "source": [
    "#Abrindo o arquivo csv pelo meu computador:\n",
    "#base = pd.read_csv('data.csv')\n",
    "\n",
    "\n",
    "#Abrindo o arquivo csv em qualquer computador:\n",
    "import io\n",
    "import requests\n",
    "\n",
    "url = \"https://raw.githubusercontent.com/camilafragoso/pishing-database/master/data.csv\"\n",
    "base = pd.read_csv(url, sep=',')"
   ]
  },
  {
   "cell_type": "markdown",
   "metadata": {},
   "source": [
    "# Visualizando a base"
   ]
  },
  {
   "cell_type": "code",
   "execution_count": 8,
   "metadata": {},
   "outputs": [
    {
     "data": {
      "text/html": [
       "<div>\n",
       "<style scoped>\n",
       "    .dataframe tbody tr th:only-of-type {\n",
       "        vertical-align: middle;\n",
       "    }\n",
       "\n",
       "    .dataframe tbody tr th {\n",
       "        vertical-align: top;\n",
       "    }\n",
       "\n",
       "    .dataframe thead th {\n",
       "        text-align: right;\n",
       "    }\n",
       "</style>\n",
       "<table border=\"1\" class=\"dataframe\">\n",
       "  <thead>\n",
       "    <tr style=\"text-align: right;\">\n",
       "      <th></th>\n",
       "      <th>SFH</th>\n",
       "      <th>popUpWidnow</th>\n",
       "      <th>SSLfinal_State</th>\n",
       "      <th>Request_URL</th>\n",
       "      <th>URL_of_Anchor</th>\n",
       "      <th>web_traffic</th>\n",
       "      <th>URL_Length</th>\n",
       "      <th>age_of_domain</th>\n",
       "      <th>having_IP_Address</th>\n",
       "      <th>Result</th>\n",
       "    </tr>\n",
       "  </thead>\n",
       "  <tbody>\n",
       "    <tr>\n",
       "      <th>0</th>\n",
       "      <td>1</td>\n",
       "      <td>-1</td>\n",
       "      <td>1</td>\n",
       "      <td>-1</td>\n",
       "      <td>-1</td>\n",
       "      <td>1</td>\n",
       "      <td>1</td>\n",
       "      <td>1</td>\n",
       "      <td>0</td>\n",
       "      <td>0</td>\n",
       "    </tr>\n",
       "    <tr>\n",
       "      <th>1</th>\n",
       "      <td>-1</td>\n",
       "      <td>-1</td>\n",
       "      <td>-1</td>\n",
       "      <td>-1</td>\n",
       "      <td>-1</td>\n",
       "      <td>0</td>\n",
       "      <td>1</td>\n",
       "      <td>1</td>\n",
       "      <td>1</td>\n",
       "      <td>1</td>\n",
       "    </tr>\n",
       "    <tr>\n",
       "      <th>2</th>\n",
       "      <td>1</td>\n",
       "      <td>-1</td>\n",
       "      <td>0</td>\n",
       "      <td>0</td>\n",
       "      <td>-1</td>\n",
       "      <td>0</td>\n",
       "      <td>-1</td>\n",
       "      <td>1</td>\n",
       "      <td>0</td>\n",
       "      <td>1</td>\n",
       "    </tr>\n",
       "    <tr>\n",
       "      <th>3</th>\n",
       "      <td>1</td>\n",
       "      <td>0</td>\n",
       "      <td>1</td>\n",
       "      <td>-1</td>\n",
       "      <td>-1</td>\n",
       "      <td>0</td>\n",
       "      <td>1</td>\n",
       "      <td>1</td>\n",
       "      <td>0</td>\n",
       "      <td>0</td>\n",
       "    </tr>\n",
       "    <tr>\n",
       "      <th>4</th>\n",
       "      <td>-1</td>\n",
       "      <td>-1</td>\n",
       "      <td>1</td>\n",
       "      <td>-1</td>\n",
       "      <td>0</td>\n",
       "      <td>0</td>\n",
       "      <td>-1</td>\n",
       "      <td>1</td>\n",
       "      <td>0</td>\n",
       "      <td>1</td>\n",
       "    </tr>\n",
       "    <tr>\n",
       "      <th>...</th>\n",
       "      <td>...</td>\n",
       "      <td>...</td>\n",
       "      <td>...</td>\n",
       "      <td>...</td>\n",
       "      <td>...</td>\n",
       "      <td>...</td>\n",
       "      <td>...</td>\n",
       "      <td>...</td>\n",
       "      <td>...</td>\n",
       "      <td>...</td>\n",
       "    </tr>\n",
       "    <tr>\n",
       "      <th>1348</th>\n",
       "      <td>-1</td>\n",
       "      <td>-1</td>\n",
       "      <td>-1</td>\n",
       "      <td>-1</td>\n",
       "      <td>-1</td>\n",
       "      <td>-1</td>\n",
       "      <td>0</td>\n",
       "      <td>1</td>\n",
       "      <td>0</td>\n",
       "      <td>1</td>\n",
       "    </tr>\n",
       "    <tr>\n",
       "      <th>1349</th>\n",
       "      <td>-1</td>\n",
       "      <td>0</td>\n",
       "      <td>1</td>\n",
       "      <td>0</td>\n",
       "      <td>-1</td>\n",
       "      <td>0</td>\n",
       "      <td>0</td>\n",
       "      <td>1</td>\n",
       "      <td>0</td>\n",
       "      <td>-1</td>\n",
       "    </tr>\n",
       "    <tr>\n",
       "      <th>1350</th>\n",
       "      <td>-1</td>\n",
       "      <td>0</td>\n",
       "      <td>-1</td>\n",
       "      <td>-1</td>\n",
       "      <td>-1</td>\n",
       "      <td>0</td>\n",
       "      <td>-1</td>\n",
       "      <td>-1</td>\n",
       "      <td>0</td>\n",
       "      <td>1</td>\n",
       "    </tr>\n",
       "    <tr>\n",
       "      <th>1351</th>\n",
       "      <td>0</td>\n",
       "      <td>0</td>\n",
       "      <td>1</td>\n",
       "      <td>0</td>\n",
       "      <td>0</td>\n",
       "      <td>0</td>\n",
       "      <td>-1</td>\n",
       "      <td>1</td>\n",
       "      <td>0</td>\n",
       "      <td>1</td>\n",
       "    </tr>\n",
       "    <tr>\n",
       "      <th>1352</th>\n",
       "      <td>1</td>\n",
       "      <td>0</td>\n",
       "      <td>1</td>\n",
       "      <td>1</td>\n",
       "      <td>1</td>\n",
       "      <td>0</td>\n",
       "      <td>-1</td>\n",
       "      <td>-1</td>\n",
       "      <td>0</td>\n",
       "      <td>-1</td>\n",
       "    </tr>\n",
       "  </tbody>\n",
       "</table>\n",
       "<p>1353 rows × 10 columns</p>\n",
       "</div>"
      ],
      "text/plain": [
       "      SFH  popUpWidnow  SSLfinal_State  Request_URL  URL_of_Anchor  \\\n",
       "0       1           -1               1           -1             -1   \n",
       "1      -1           -1              -1           -1             -1   \n",
       "2       1           -1               0            0             -1   \n",
       "3       1            0               1           -1             -1   \n",
       "4      -1           -1               1           -1              0   \n",
       "...   ...          ...             ...          ...            ...   \n",
       "1348   -1           -1              -1           -1             -1   \n",
       "1349   -1            0               1            0             -1   \n",
       "1350   -1            0              -1           -1             -1   \n",
       "1351    0            0               1            0              0   \n",
       "1352    1            0               1            1              1   \n",
       "\n",
       "      web_traffic  URL_Length  age_of_domain  having_IP_Address  Result  \n",
       "0               1           1              1                  0       0  \n",
       "1               0           1              1                  1       1  \n",
       "2               0          -1              1                  0       1  \n",
       "3               0           1              1                  0       0  \n",
       "4               0          -1              1                  0       1  \n",
       "...           ...         ...            ...                ...     ...  \n",
       "1348           -1           0              1                  0       1  \n",
       "1349            0           0              1                  0      -1  \n",
       "1350            0          -1             -1                  0       1  \n",
       "1351            0          -1              1                  0       1  \n",
       "1352            0          -1             -1                  0      -1  \n",
       "\n",
       "[1353 rows x 10 columns]"
      ]
     },
     "execution_count": 8,
     "metadata": {},
     "output_type": "execute_result"
    }
   ],
   "source": [
    "base"
   ]
  },
  {
   "cell_type": "markdown",
   "metadata": {},
   "source": [
    "# Dados estatísticos da base"
   ]
  },
  {
   "cell_type": "code",
   "execution_count": 162,
   "metadata": {
    "scrolled": true
   },
   "outputs": [
    {
     "data": {
      "text/html": [
       "<div>\n",
       "<style scoped>\n",
       "    .dataframe tbody tr th:only-of-type {\n",
       "        vertical-align: middle;\n",
       "    }\n",
       "\n",
       "    .dataframe tbody tr th {\n",
       "        vertical-align: top;\n",
       "    }\n",
       "\n",
       "    .dataframe thead th {\n",
       "        text-align: right;\n",
       "    }\n",
       "</style>\n",
       "<table border=\"1\" class=\"dataframe\">\n",
       "  <thead>\n",
       "    <tr style=\"text-align: right;\">\n",
       "      <th></th>\n",
       "      <th>SFH</th>\n",
       "      <th>popUpWidnow</th>\n",
       "      <th>SSLfinal_State</th>\n",
       "      <th>Request_URL</th>\n",
       "      <th>URL_of_Anchor</th>\n",
       "      <th>web_traffic</th>\n",
       "      <th>URL_Length</th>\n",
       "      <th>age_of_domain</th>\n",
       "      <th>having_IP_Address</th>\n",
       "      <th>Result</th>\n",
       "    </tr>\n",
       "  </thead>\n",
       "  <tbody>\n",
       "    <tr>\n",
       "      <th>count</th>\n",
       "      <td>1353.000000</td>\n",
       "      <td>1353.000000</td>\n",
       "      <td>1353.000000</td>\n",
       "      <td>1353.000000</td>\n",
       "      <td>1353.000000</td>\n",
       "      <td>1353.000000</td>\n",
       "      <td>1353.000000</td>\n",
       "      <td>1353.000000</td>\n",
       "      <td>1353.000000</td>\n",
       "      <td>1353.000000</td>\n",
       "    </tr>\n",
       "    <tr>\n",
       "      <th>mean</th>\n",
       "      <td>0.237990</td>\n",
       "      <td>-0.258684</td>\n",
       "      <td>0.327421</td>\n",
       "      <td>-0.223208</td>\n",
       "      <td>-0.025129</td>\n",
       "      <td>0.000000</td>\n",
       "      <td>-0.053215</td>\n",
       "      <td>0.219512</td>\n",
       "      <td>0.114560</td>\n",
       "      <td>-0.113821</td>\n",
       "    </tr>\n",
       "    <tr>\n",
       "      <th>std</th>\n",
       "      <td>0.916389</td>\n",
       "      <td>0.679072</td>\n",
       "      <td>0.822193</td>\n",
       "      <td>0.799682</td>\n",
       "      <td>0.936262</td>\n",
       "      <td>0.806776</td>\n",
       "      <td>0.762552</td>\n",
       "      <td>0.975970</td>\n",
       "      <td>0.318608</td>\n",
       "      <td>0.954773</td>\n",
       "    </tr>\n",
       "    <tr>\n",
       "      <th>min</th>\n",
       "      <td>-1.000000</td>\n",
       "      <td>-1.000000</td>\n",
       "      <td>-1.000000</td>\n",
       "      <td>-1.000000</td>\n",
       "      <td>-1.000000</td>\n",
       "      <td>-1.000000</td>\n",
       "      <td>-1.000000</td>\n",
       "      <td>-1.000000</td>\n",
       "      <td>0.000000</td>\n",
       "      <td>-1.000000</td>\n",
       "    </tr>\n",
       "    <tr>\n",
       "      <th>25%</th>\n",
       "      <td>-1.000000</td>\n",
       "      <td>-1.000000</td>\n",
       "      <td>0.000000</td>\n",
       "      <td>-1.000000</td>\n",
       "      <td>-1.000000</td>\n",
       "      <td>-1.000000</td>\n",
       "      <td>-1.000000</td>\n",
       "      <td>-1.000000</td>\n",
       "      <td>0.000000</td>\n",
       "      <td>-1.000000</td>\n",
       "    </tr>\n",
       "    <tr>\n",
       "      <th>50%</th>\n",
       "      <td>1.000000</td>\n",
       "      <td>0.000000</td>\n",
       "      <td>1.000000</td>\n",
       "      <td>0.000000</td>\n",
       "      <td>0.000000</td>\n",
       "      <td>0.000000</td>\n",
       "      <td>0.000000</td>\n",
       "      <td>1.000000</td>\n",
       "      <td>0.000000</td>\n",
       "      <td>-1.000000</td>\n",
       "    </tr>\n",
       "    <tr>\n",
       "      <th>75%</th>\n",
       "      <td>1.000000</td>\n",
       "      <td>0.000000</td>\n",
       "      <td>1.000000</td>\n",
       "      <td>0.000000</td>\n",
       "      <td>1.000000</td>\n",
       "      <td>1.000000</td>\n",
       "      <td>1.000000</td>\n",
       "      <td>1.000000</td>\n",
       "      <td>0.000000</td>\n",
       "      <td>1.000000</td>\n",
       "    </tr>\n",
       "    <tr>\n",
       "      <th>max</th>\n",
       "      <td>1.000000</td>\n",
       "      <td>1.000000</td>\n",
       "      <td>1.000000</td>\n",
       "      <td>1.000000</td>\n",
       "      <td>1.000000</td>\n",
       "      <td>1.000000</td>\n",
       "      <td>1.000000</td>\n",
       "      <td>1.000000</td>\n",
       "      <td>1.000000</td>\n",
       "      <td>1.000000</td>\n",
       "    </tr>\n",
       "  </tbody>\n",
       "</table>\n",
       "</div>"
      ],
      "text/plain": [
       "               SFH  popUpWidnow  SSLfinal_State  Request_URL  URL_of_Anchor  \\\n",
       "count  1353.000000  1353.000000     1353.000000  1353.000000    1353.000000   \n",
       "mean      0.237990    -0.258684        0.327421    -0.223208      -0.025129   \n",
       "std       0.916389     0.679072        0.822193     0.799682       0.936262   \n",
       "min      -1.000000    -1.000000       -1.000000    -1.000000      -1.000000   \n",
       "25%      -1.000000    -1.000000        0.000000    -1.000000      -1.000000   \n",
       "50%       1.000000     0.000000        1.000000     0.000000       0.000000   \n",
       "75%       1.000000     0.000000        1.000000     0.000000       1.000000   \n",
       "max       1.000000     1.000000        1.000000     1.000000       1.000000   \n",
       "\n",
       "       web_traffic   URL_Length  age_of_domain  having_IP_Address       Result  \n",
       "count  1353.000000  1353.000000    1353.000000        1353.000000  1353.000000  \n",
       "mean      0.000000    -0.053215       0.219512           0.114560    -0.113821  \n",
       "std       0.806776     0.762552       0.975970           0.318608     0.954773  \n",
       "min      -1.000000    -1.000000      -1.000000           0.000000    -1.000000  \n",
       "25%      -1.000000    -1.000000      -1.000000           0.000000    -1.000000  \n",
       "50%       0.000000     0.000000       1.000000           0.000000    -1.000000  \n",
       "75%       1.000000     1.000000       1.000000           0.000000     1.000000  \n",
       "max       1.000000     1.000000       1.000000           1.000000     1.000000  "
      ]
     },
     "execution_count": 162,
     "metadata": {},
     "output_type": "execute_result"
    }
   ],
   "source": [
    "#Descrição da base\n",
    "base.describe()"
   ]
  },
  {
   "cell_type": "markdown",
   "metadata": {},
   "source": [
    "# Número de exemplos por classe"
   ]
  },
  {
   "cell_type": "code",
   "execution_count": 163,
   "metadata": {},
   "outputs": [
    {
     "name": "stdout",
     "output_type": "stream",
     "text": [
      "103 suspicious activities found\n",
      "702 pishing activities found\n",
      "548 legitimate activities found\n"
     ]
    }
   ],
   "source": [
    "#Número de exemplos por classe\n",
    "\n",
    "suspicious=len(base[base.Result==0])\n",
    "legitimate=len(base[base.Result==1])\n",
    "pishing=len(base[base.Result==-1])\n",
    "\n",
    "print(suspicious, 'suspicious activities found')\n",
    "print(pishing, 'pishing activities found')\n",
    "print(legitimate, 'legitimate activities found')"
   ]
  },
  {
   "cell_type": "code",
   "execution_count": 164,
   "metadata": {},
   "outputs": [
    {
     "data": {
      "text/plain": [
       "<matplotlib.axes._subplots.AxesSubplot at 0x1acee50a4c8>"
      ]
     },
     "execution_count": 164,
     "metadata": {},
     "output_type": "execute_result"
    },
    {
     "data": {
      "image/png": "[encoded data removed]",
      "text/plain": [
       "<Figure size 432x288 with 1 Axes>"
      ]
     },
     "metadata": {
      "needs_background": "light"
     },
     "output_type": "display_data"
    }
   ],
   "source": [
    "#Gráfico do número de exemplos por classe\n",
    "\n",
    "sns.countplot(base['Result'])"
   ]
  },
  {
   "cell_type": "markdown",
   "metadata": {},
   "source": [
    "# Verificando a existência de dados faltantes"
   ]
  },
  {
   "cell_type": "code",
   "execution_count": 165,
   "metadata": {},
   "outputs": [
    {
     "name": "stdout",
     "output_type": "stream",
     "text": [
      "<class 'pandas.core.frame.DataFrame'>\n",
      "RangeIndex: 1353 entries, 0 to 1352\n",
      "Data columns (total 10 columns):\n",
      " #   Column             Non-Null Count  Dtype\n",
      "---  ------             --------------  -----\n",
      " 0   SFH                1353 non-null   int64\n",
      " 1   popUpWidnow        1353 non-null   int64\n",
      " 2   SSLfinal_State     1353 non-null   int64\n",
      " 3   Request_URL        1353 non-null   int64\n",
      " 4   URL_of_Anchor      1353 non-null   int64\n",
      " 5   web_traffic        1353 non-null   int64\n",
      " 6   URL_Length         1353 non-null   int64\n",
      " 7   age_of_domain      1353 non-null   int64\n",
      " 8   having_IP_Address  1353 non-null   int64\n",
      " 9   Result             1353 non-null   int64\n",
      "dtypes: int64(10)\n",
      "memory usage: 105.8 KB\n"
     ]
    }
   ],
   "source": [
    "#Checando se existem dados faltantes\n",
    "\n",
    "base.info()"
   ]
  },
  {
   "cell_type": "code",
   "execution_count": 166,
   "metadata": {},
   "outputs": [
    {
     "data": {
      "text/plain": [
       "(1353, 10)"
      ]
     },
     "execution_count": 166,
     "metadata": {},
     "output_type": "execute_result"
    }
   ],
   "source": [
    "#Note que existem 1353 linhas, então não existem dados nulos de acordo com as informações obtidas acima. \n",
    "base.shape"
   ]
  },
  {
   "cell_type": "markdown",
   "metadata": {},
   "source": [
    "# Definindo os atributos previsores e a classe"
   ]
  },
  {
   "cell_type": "code",
   "execution_count": 167,
   "metadata": {},
   "outputs": [],
   "source": [
    "# definindo os previsores e a classe\n",
    "\n",
    "predictors = base.iloc[:, 0:9].values\n",
    "classe = base.iloc[:, 9].values"
   ]
  },
  {
   "cell_type": "markdown",
   "metadata": {},
   "source": [
    "# Cross-Validation"
   ]
  },
  {
   "cell_type": "code",
   "execution_count": 168,
   "metadata": {},
   "outputs": [],
   "source": [
    "# dividindo a base em treinamento e teste\n",
    "\n",
    "from sklearn.model_selection import train_test_split\n",
    "predictors_training, predictors_test, classe_training, classe_test = train_test_split(predictors, classe, test_size=0.15, random_state=0)"
   ]
  },
  {
   "cell_type": "markdown",
   "metadata": {},
   "source": [
    "# Classificador GaussianNB"
   ]
  },
  {
   "cell_type": "code",
   "execution_count": 169,
   "metadata": {},
   "outputs": [],
   "source": [
    "# GAUSSIAN NB\n",
    "\n",
    "from sklearn.naive_bayes import GaussianNB\n",
    "classifier1 = GaussianNB()\n",
    "classifier1.fit(predictors_training, classe_training)\n",
    "predictions_gaussianNB = classifier1.predict(predictors_test)"
   ]
  },
  {
   "cell_type": "code",
   "execution_count": 170,
   "metadata": {},
   "outputs": [
    {
     "name": "stdout",
     "output_type": "stream",
     "text": [
      "Accuracy: 0.7832512315270936\n",
      "F1 Score: 0.7651670466200095\n",
      "Recall: 0.7832512315270936\n",
      "Precision: 0.7669970682674856\n"
     ]
    }
   ],
   "source": [
    "#ACURÁCIA\n",
    "accuracy_gaussian = accuracy_score(classe_test, predictions_gaussianNB)\n",
    "print(\"Accuracy:\", accuracy_gaussian)\n",
    "\n",
    "#F1 SCORE\n",
    "f1_score_gaussian = f1_score(classe_test, predictions_gaussianNB, average='weighted')\n",
    "print(\"F1 Score:\", f1_score_gaussian)\n",
    "\n",
    "#RECALL\n",
    "recall_gaussian = recall_score(classe_test, predictions_gaussianNB, average='weighted')\n",
    "print(\"Recall:\", recall_gaussian)\n",
    "\n",
    "#PRECISÃO\n",
    "precision_gaussian = precision_score(classe_test, predictions_gaussianNB, average='weighted')\n",
    "print(\"Precision:\", precision_gaussian)"
   ]
  },
  {
   "cell_type": "markdown",
   "metadata": {},
   "source": [
    "# Classificador Decision Tree"
   ]
  },
  {
   "cell_type": "code",
   "execution_count": 171,
   "metadata": {},
   "outputs": [],
   "source": [
    "# DECISION TREE\n",
    "\n",
    "from sklearn.tree import DecisionTreeClassifier\n",
    "classifier2 = DecisionTreeClassifier()\n",
    "classifier2.fit(predictors_training, classe_training)\n",
    "predictions_decisionTree = classifier2.predict(predictors_test)"
   ]
  },
  {
   "cell_type": "code",
   "execution_count": 172,
   "metadata": {},
   "outputs": [
    {
     "name": "stdout",
     "output_type": "stream",
     "text": [
      "Accuracy: 0.8916256157635468\n",
      "F1 Score: 0.8915652635342721\n",
      "Recall: 0.8916256157635468\n",
      "Precision: 0.8916940973442844\n"
     ]
    }
   ],
   "source": [
    "#ACURÁCIA\n",
    "accuracy_decisionTree = accuracy_score(classe_test, predictions_decisionTree)\n",
    "print(\"Accuracy:\", accuracy_decisionTree)\n",
    "\n",
    "#F1 SCORE\n",
    "f1_score_decisionTree = f1_score(classe_test, predictions_decisionTree, average='weighted')\n",
    "print(\"F1 Score:\", f1_score_decisionTree)\n",
    "\n",
    "#RECALL\n",
    "recall_decisionTree = recall_score(classe_test, predictions_decisionTree, average='weighted')\n",
    "print(\"Recall:\", recall_decisionTree)\n",
    "\n",
    "#PRECISÃO\n",
    "precision_decisionTree = precision_score(classe_test, predictions_decisionTree, average='weighted')\n",
    "print(\"Precision:\", precision_decisionTree)"
   ]
  },
  {
   "cell_type": "markdown",
   "metadata": {},
   "source": [
    "# Classificador Logistic Regression"
   ]
  },
  {
   "cell_type": "code",
   "execution_count": null,
   "metadata": {},
   "outputs": [],
   "source": [
    "#LOGISTIC REGRESSION\n",
    "\n",
    "from sklearn.linear_model import LogisticRegression\n",
    "classifier3 = LogisticRegression()\n",
    "classifier3.fit(predictors_training, classe_training)\n",
    "predictions_logisticRegression = classifier3.predict(predictors_test)"
   ]
  },
  {
   "cell_type": "code",
   "execution_count": 174,
   "metadata": {},
   "outputs": [
    {
     "name": "stdout",
     "output_type": "stream",
     "text": [
      "Accuracy: 0.7783251231527094\n",
      "F1 Score: 0.7615451806857044\n",
      "Recall: 0.7783251231527094\n",
      "Precision: 0.7573729985313244\n"
     ]
    }
   ],
   "source": [
    "#ACURÁCIA\n",
    "accuracy_logisticRegression = accuracy_score(classe_test, predictions_logisticRegression)\n",
    "print(\"Accuracy:\", accuracy_logisticRegression)\n",
    "\n",
    "#F1 SCORE\n",
    "f1_score_logisticRegression = f1_score(classe_test, predictions_logisticRegression, average='weighted')\n",
    "print(\"F1 Score:\", f1_score_logisticRegression)\n",
    "\n",
    "#RECALL\n",
    "recall_logisticRegression = recall_score(classe_test, predictions_logisticRegression, average='weighted')\n",
    "print(\"Recall:\", recall_logisticRegression)\n",
    "\n",
    "#PRECISÃO\n",
    "precision_logisticRegression = precision_score(classe_test, predictions_logisticRegression, average='weighted')\n",
    "print(\"Precision:\", precision_logisticRegression)"
   ]
  },
  {
   "cell_type": "markdown",
   "metadata": {},
   "source": [
    "# Classificador KNN"
   ]
  },
  {
   "cell_type": "code",
   "execution_count": 175,
   "metadata": {},
   "outputs": [],
   "source": [
    "#KNN\n",
    "from sklearn.neighbors import KNeighborsClassifier\n",
    "classifier4 = KNeighborsClassifier()\n",
    "classifier4.fit(predictors_training, classe_training)\n",
    "predictions_KNN = classifier4.predict(predictors_test)"
   ]
  },
  {
   "cell_type": "code",
   "execution_count": 176,
   "metadata": {},
   "outputs": [
    {
     "name": "stdout",
     "output_type": "stream",
     "text": [
      "Accuracy: 0.8817733990147784\n",
      "F1 Score: 0.8810018738090446\n",
      "Recall: 0.8817733990147784\n",
      "Precision: 0.8860355536517455\n"
     ]
    }
   ],
   "source": [
    "#ACURÁCIA\n",
    "accuracy_KNN = accuracy_score(classe_test, predictions_KNN)\n",
    "print(\"Accuracy:\", accuracy_KNN)\n",
    "\n",
    "#F1 SCORE\n",
    "f1_score_KNN = f1_score(classe_test, predictions_KNN, average='weighted')\n",
    "print(\"F1 Score:\", f1_score_KNN)\n",
    "\n",
    "#RECALL\n",
    "recall_KNN = recall_score(classe_test, predictions_KNN, average='weighted')\n",
    "print(\"Recall:\", recall_KNN)\n",
    "\n",
    "#PRECISÃO\n",
    "precision_KNN = precision_score(classe_test, predictions_KNN, average='weighted')\n",
    "print(\"Precision:\", precision_KNN)\n"
   ]
  },
  {
   "cell_type": "markdown",
   "metadata": {},
   "source": [
    "# Classificador SVC"
   ]
  },
  {
   "cell_type": "code",
   "execution_count": 177,
   "metadata": {},
   "outputs": [],
   "source": [
    "#SVC\n",
    "from sklearn.svm import SVC\n",
    "classifier5 = SVC(C=8.0)\n",
    "classifier5.fit(predictors_training, classe_training)\n",
    "predictions_svc = classifier5.predict(predictors_test)"
   ]
  },
  {
   "cell_type": "code",
   "execution_count": 178,
   "metadata": {},
   "outputs": [
    {
     "name": "stdout",
     "output_type": "stream",
     "text": [
      "Accuracy: 0.8916256157635468\n",
      "F1 Score: 0.8915718686437455\n",
      "Recall: 0.8916256157635468\n",
      "Precision: 0.8915652635342721\n"
     ]
    }
   ],
   "source": [
    "#ACURÁCIA\n",
    "accuracy_svc = accuracy_score(classe_test, predictions_svc)\n",
    "print(\"Accuracy:\", accuracy_svc)\n",
    "\n",
    "#F1 SCORE\n",
    "f1_score_svc = f1_score(classe_test, predictions_svc, average='weighted')\n",
    "print(\"F1 Score:\", f1_score_svc)\n",
    "\n",
    "#RECALL\n",
    "recall_svc = recall_score(classe_test, predictions_svc, average='weighted')\n",
    "print(\"Recall:\", recall_svc)\n",
    "\n",
    "#PRECISÃO\n",
    "precision_svc = precision_score(classe_test, predictions_svc, average='weighted')\n",
    "print(\"Precision:\", precision_svc)"
   ]
  },
  {
   "cell_type": "markdown",
   "metadata": {},
   "source": [
    "# Salvando em CSV"
   ]
  },
  {
   "cell_type": "code",
   "execution_count": 179,
   "metadata": {},
   "outputs": [],
   "source": [
    "#SALVANDO RESULTADOS EM CSV - formato para leitura\n",
    "\n",
    "with open('read_results.csv', 'w', newline='') as file:\n",
    "    fieldnames = ['Classifier', 'Accuracy', 'Precision', 'Recall', 'F1 Score']\n",
    "    writer = csv.DictWriter(file, fieldnames=fieldnames)\n",
    "    writer.writeheader()\n",
    "    \n",
    "    writer.writerow({'Classifier': 'GaussianNB', 'Accuracy': accuracy_gaussian, 'Precision': precision_gaussian, 'Recall': recall_gaussian, 'F1 Score': f1_score_gaussian})\n",
    "    writer.writerow({'Classifier': 'Decision Tree', 'Accuracy': accuracy_decisionTree, 'Precision': precision_decisionTree, 'Recall': recall_decisionTree, 'F1 Score': f1_score_decisionTree})\n",
    "    writer.writerow({'Classifier': 'Logistic Regression', 'Accuracy': accuracy_logisticRegression, 'Precision': precision_logisticRegression, 'Recall': recall_logisticRegression, 'F1 Score': f1_score_logisticRegression})\n",
    "    writer.writerow({'Classifier': 'KNN', 'Accuracy': accuracy_KNN, 'Precision': precision_KNN, 'Recall': recall_KNN, 'F1 Score': f1_score_KNN})\n",
    "    writer.writerow({'Classifier': 'SVC', 'Accuracy': accuracy_svc, 'Precision': precision_svc, 'Recall': recall_svc, 'F1 Score': f1_score_svc})"
   ]
  },
  {
   "cell_type": "markdown",
   "metadata": {},
   "source": [
    "# Visualizando os dados obtidos"
   ]
  },
  {
   "cell_type": "code",
   "execution_count": 180,
   "metadata": {},
   "outputs": [
    {
     "data": {
      "text/html": [
       "<div>\n",
       "<style scoped>\n",
       "    .dataframe tbody tr th:only-of-type {\n",
       "        vertical-align: middle;\n",
       "    }\n",
       "\n",
       "    .dataframe tbody tr th {\n",
       "        vertical-align: top;\n",
       "    }\n",
       "\n",
       "    .dataframe thead th {\n",
       "        text-align: right;\n",
       "    }\n",
       "</style>\n",
       "<table border=\"1\" class=\"dataframe\">\n",
       "  <thead>\n",
       "    <tr style=\"text-align: right;\">\n",
       "      <th></th>\n",
       "      <th>Classifier</th>\n",
       "      <th>Accuracy</th>\n",
       "      <th>Precision</th>\n",
       "      <th>Recall</th>\n",
       "      <th>F1 Score</th>\n",
       "    </tr>\n",
       "  </thead>\n",
       "  <tbody>\n",
       "    <tr>\n",
       "      <th>0</th>\n",
       "      <td>GaussianNB</td>\n",
       "      <td>0.783251</td>\n",
       "      <td>0.766997</td>\n",
       "      <td>0.783251</td>\n",
       "      <td>0.765167</td>\n",
       "    </tr>\n",
       "    <tr>\n",
       "      <th>1</th>\n",
       "      <td>Decision Tree</td>\n",
       "      <td>0.891626</td>\n",
       "      <td>0.891694</td>\n",
       "      <td>0.891626</td>\n",
       "      <td>0.891565</td>\n",
       "    </tr>\n",
       "    <tr>\n",
       "      <th>2</th>\n",
       "      <td>Logistic Regression</td>\n",
       "      <td>0.778325</td>\n",
       "      <td>0.757373</td>\n",
       "      <td>0.778325</td>\n",
       "      <td>0.761545</td>\n",
       "    </tr>\n",
       "    <tr>\n",
       "      <th>3</th>\n",
       "      <td>KNN</td>\n",
       "      <td>0.881773</td>\n",
       "      <td>0.886036</td>\n",
       "      <td>0.881773</td>\n",
       "      <td>0.881002</td>\n",
       "    </tr>\n",
       "    <tr>\n",
       "      <th>4</th>\n",
       "      <td>SVC</td>\n",
       "      <td>0.891626</td>\n",
       "      <td>0.891565</td>\n",
       "      <td>0.891626</td>\n",
       "      <td>0.891572</td>\n",
       "    </tr>\n",
       "  </tbody>\n",
       "</table>\n",
       "</div>"
      ],
      "text/plain": [
       "            Classifier  Accuracy  Precision    Recall  F1 Score\n",
       "0           GaussianNB  0.783251   0.766997  0.783251  0.765167\n",
       "1        Decision Tree  0.891626   0.891694  0.891626  0.891565\n",
       "2  Logistic Regression  0.778325   0.757373  0.778325  0.761545\n",
       "3                  KNN  0.881773   0.886036  0.881773  0.881002\n",
       "4                  SVC  0.891626   0.891565  0.891626  0.891572"
      ]
     },
     "execution_count": 180,
     "metadata": {},
     "output_type": "execute_result"
    }
   ],
   "source": [
    "#Lendo o csv com os dados obtidos\n",
    "\n",
    "results_readable = pd.read_csv('read_results.csv')\n",
    "results_readable"
   ]
  },
  {
   "cell_type": "markdown",
   "metadata": {},
   "source": [
    "# Formatando a tabela para plotar o gráfico"
   ]
  },
  {
   "cell_type": "code",
   "execution_count": 181,
   "metadata": {},
   "outputs": [],
   "source": [
    "#SALVANDO RESULTADOS EM CSV - formato para plotar o gráfico\n",
    "\n",
    "with open('graphic_result.csv', 'w', newline='') as file:\n",
    "    fieldnames = ['Metric', 'Value', 'Classifier']\n",
    "    writer = csv.DictWriter(file, fieldnames=fieldnames)\n",
    "    writer.writeheader()     \n",
    "    \n",
    "    metrics = ['accuracy', 'precision', 'f1_score', 'recall']\n",
    "    classifiers = ['gaussian', 'decisionTree', 'logisticRegression', 'KNN', 'svc']\n",
    "    \n",
    "    for i in metrics:\n",
    "        for j in classifiers:\n",
    "            value_name = i+'_'+j\n",
    "            writer.writerow({'Metric': i, 'Value': eval(value_name), 'Classifier': j})"
   ]
  },
  {
   "cell_type": "code",
   "execution_count": 182,
   "metadata": {},
   "outputs": [
    {
     "data": {
      "text/html": [
       "<div>\n",
       "<style scoped>\n",
       "    .dataframe tbody tr th:only-of-type {\n",
       "        vertical-align: middle;\n",
       "    }\n",
       "\n",
       "    .dataframe tbody tr th {\n",
       "        vertical-align: top;\n",
       "    }\n",
       "\n",
       "    .dataframe thead th {\n",
       "        text-align: right;\n",
       "    }\n",
       "</style>\n",
       "<table border=\"1\" class=\"dataframe\">\n",
       "  <thead>\n",
       "    <tr style=\"text-align: right;\">\n",
       "      <th></th>\n",
       "      <th>Metric</th>\n",
       "      <th>Value</th>\n",
       "      <th>Classifier</th>\n",
       "    </tr>\n",
       "  </thead>\n",
       "  <tbody>\n",
       "    <tr>\n",
       "      <th>0</th>\n",
       "      <td>accuracy</td>\n",
       "      <td>0.783251</td>\n",
       "      <td>gaussian</td>\n",
       "    </tr>\n",
       "    <tr>\n",
       "      <th>1</th>\n",
       "      <td>accuracy</td>\n",
       "      <td>0.891626</td>\n",
       "      <td>decisionTree</td>\n",
       "    </tr>\n",
       "    <tr>\n",
       "      <th>2</th>\n",
       "      <td>accuracy</td>\n",
       "      <td>0.778325</td>\n",
       "      <td>logisticRegression</td>\n",
       "    </tr>\n",
       "    <tr>\n",
       "      <th>3</th>\n",
       "      <td>accuracy</td>\n",
       "      <td>0.881773</td>\n",
       "      <td>KNN</td>\n",
       "    </tr>\n",
       "    <tr>\n",
       "      <th>4</th>\n",
       "      <td>accuracy</td>\n",
       "      <td>0.891626</td>\n",
       "      <td>svc</td>\n",
       "    </tr>\n",
       "    <tr>\n",
       "      <th>5</th>\n",
       "      <td>precision</td>\n",
       "      <td>0.766997</td>\n",
       "      <td>gaussian</td>\n",
       "    </tr>\n",
       "    <tr>\n",
       "      <th>6</th>\n",
       "      <td>precision</td>\n",
       "      <td>0.891694</td>\n",
       "      <td>decisionTree</td>\n",
       "    </tr>\n",
       "    <tr>\n",
       "      <th>7</th>\n",
       "      <td>precision</td>\n",
       "      <td>0.757373</td>\n",
       "      <td>logisticRegression</td>\n",
       "    </tr>\n",
       "    <tr>\n",
       "      <th>8</th>\n",
       "      <td>precision</td>\n",
       "      <td>0.886036</td>\n",
       "      <td>KNN</td>\n",
       "    </tr>\n",
       "    <tr>\n",
       "      <th>9</th>\n",
       "      <td>precision</td>\n",
       "      <td>0.891565</td>\n",
       "      <td>svc</td>\n",
       "    </tr>\n",
       "    <tr>\n",
       "      <th>10</th>\n",
       "      <td>f1_score</td>\n",
       "      <td>0.765167</td>\n",
       "      <td>gaussian</td>\n",
       "    </tr>\n",
       "    <tr>\n",
       "      <th>11</th>\n",
       "      <td>f1_score</td>\n",
       "      <td>0.891565</td>\n",
       "      <td>decisionTree</td>\n",
       "    </tr>\n",
       "    <tr>\n",
       "      <th>12</th>\n",
       "      <td>f1_score</td>\n",
       "      <td>0.761545</td>\n",
       "      <td>logisticRegression</td>\n",
       "    </tr>\n",
       "    <tr>\n",
       "      <th>13</th>\n",
       "      <td>f1_score</td>\n",
       "      <td>0.881002</td>\n",
       "      <td>KNN</td>\n",
       "    </tr>\n",
       "    <tr>\n",
       "      <th>14</th>\n",
       "      <td>f1_score</td>\n",
       "      <td>0.891572</td>\n",
       "      <td>svc</td>\n",
       "    </tr>\n",
       "    <tr>\n",
       "      <th>15</th>\n",
       "      <td>recall</td>\n",
       "      <td>0.783251</td>\n",
       "      <td>gaussian</td>\n",
       "    </tr>\n",
       "    <tr>\n",
       "      <th>16</th>\n",
       "      <td>recall</td>\n",
       "      <td>0.891626</td>\n",
       "      <td>decisionTree</td>\n",
       "    </tr>\n",
       "    <tr>\n",
       "      <th>17</th>\n",
       "      <td>recall</td>\n",
       "      <td>0.778325</td>\n",
       "      <td>logisticRegression</td>\n",
       "    </tr>\n",
       "    <tr>\n",
       "      <th>18</th>\n",
       "      <td>recall</td>\n",
       "      <td>0.881773</td>\n",
       "      <td>KNN</td>\n",
       "    </tr>\n",
       "    <tr>\n",
       "      <th>19</th>\n",
       "      <td>recall</td>\n",
       "      <td>0.891626</td>\n",
       "      <td>svc</td>\n",
       "    </tr>\n",
       "  </tbody>\n",
       "</table>\n",
       "</div>"
      ],
      "text/plain": [
       "       Metric     Value          Classifier\n",
       "0    accuracy  0.783251            gaussian\n",
       "1    accuracy  0.891626        decisionTree\n",
       "2    accuracy  0.778325  logisticRegression\n",
       "3    accuracy  0.881773                 KNN\n",
       "4    accuracy  0.891626                 svc\n",
       "5   precision  0.766997            gaussian\n",
       "6   precision  0.891694        decisionTree\n",
       "7   precision  0.757373  logisticRegression\n",
       "8   precision  0.886036                 KNN\n",
       "9   precision  0.891565                 svc\n",
       "10   f1_score  0.765167            gaussian\n",
       "11   f1_score  0.891565        decisionTree\n",
       "12   f1_score  0.761545  logisticRegression\n",
       "13   f1_score  0.881002                 KNN\n",
       "14   f1_score  0.891572                 svc\n",
       "15     recall  0.783251            gaussian\n",
       "16     recall  0.891626        decisionTree\n",
       "17     recall  0.778325  logisticRegression\n",
       "18     recall  0.881773                 KNN\n",
       "19     recall  0.891626                 svc"
      ]
     },
     "execution_count": 182,
     "metadata": {},
     "output_type": "execute_result"
    }
   ],
   "source": [
    "#Tabela formatada para a geração do gráfico\n",
    "\n",
    "formated = pd.read_csv('graphic_result.csv')\n",
    "formated"
   ]
  },
  {
   "cell_type": "markdown",
   "metadata": {},
   "source": [
    "# Gráfico Comparativo de Acurácia, Precisão, F1 Score e Recall entre os Classificadores"
   ]
  },
  {
   "cell_type": "code",
   "execution_count": 183,
   "metadata": {},
   "outputs": [
    {
     "data": {
      "text/plain": [
       "<seaborn.axisgrid.FacetGrid at 0x1acefd8a048>"
      ]
     },
     "execution_count": 183,
     "metadata": {},
     "output_type": "execute_result"
    },
    {
     "data": {
      "image/png": "[encoded data removed]",
      "text/plain": [
       "<Figure size 847x360 with 1 Axes>"
      ]
     },
     "metadata": {
      "needs_background": "light"
     },
     "output_type": "display_data"
    }
   ],
   "source": [
    "#Gráfico comparativo de acurácia, precisão, f1 e recall entre os classificadores\n",
    "\n",
    "sns.catplot(x='Metric', y='Value', hue='Classifier', data=formated, kind='bar', height=5, aspect=2)"
   ]
  },
  {
   "cell_type": "markdown",
   "metadata": {},
   "source": [
    "# Salvando os melhores resultados em um novo CSV"
   ]
  },
  {
   "cell_type": "code",
   "execution_count": 184,
   "metadata": {},
   "outputs": [],
   "source": [
    "#SALVANDO melhores RESULTADOS EM CSV - formato para plotar o gráfico\n",
    "\n",
    "with open('best_graphic_result.csv', 'w', newline='') as file:\n",
    "    fieldnames = ['Metric', 'Value', 'Classifier']\n",
    "    writer = csv.DictWriter(file, fieldnames=fieldnames)\n",
    "    writer.writeheader()         \n",
    "    \n",
    "    metrics = ['accuracy', 'precision', 'f1_score', 'recall']\n",
    "    classifiers = ['decisionTree', 'KNN', 'svc']\n",
    "    \n",
    "    for i in metrics:\n",
    "        for j in classifiers:\n",
    "            value_name = i+'_'+j\n",
    "            writer.writerow({'Metric': i, 'Value': eval(value_name), 'Classifier': j})"
   ]
  },
  {
   "cell_type": "code",
   "execution_count": 185,
   "metadata": {},
   "outputs": [],
   "source": [
    "#Lendo o csv com os melhores resultados\n",
    "\n",
    "best_results = pd.read_csv('best_graphic_result.csv')"
   ]
  },
  {
   "cell_type": "markdown",
   "metadata": {},
   "source": [
    "# Gráfico Comparativo de Acurácia, Precisão, F1 Score e Recall entre os Melhores Classificadores"
   ]
  },
  {
   "cell_type": "code",
   "execution_count": 186,
   "metadata": {
    "scrolled": true
   },
   "outputs": [
    {
     "data": {
      "text/plain": [
       "<seaborn.axisgrid.FacetGrid at 0x1aceff46408>"
      ]
     },
     "execution_count": 186,
     "metadata": {},
     "output_type": "execute_result"
    },
    {
     "data": {
      "image/png": "[encoded data removed]",
      "text/plain": [
       "<Figure size 963.734x288 with 1 Axes>"
      ]
     },
     "metadata": {
      "needs_background": "light"
     },
     "output_type": "display_data"
    }
   ],
   "source": [
    "#Gráfico comparativo de acurácia, precisão, f1 e recall entre os melhores classificadores \n",
    "\n",
    "sns.catplot(x='Metric', y='Value', hue='Classifier', data=best_results, kind='bar', height=4, aspect=3)"
   ]
  },
  {
   "cell_type": "code",
   "execution_count": 187,
   "metadata": {},
   "outputs": [
    {
     "data": {
      "text/html": [
       "<div>\n",
       "<style scoped>\n",
       "    .dataframe tbody tr th:only-of-type {\n",
       "        vertical-align: middle;\n",
       "    }\n",
       "\n",
       "    .dataframe tbody tr th {\n",
       "        vertical-align: top;\n",
       "    }\n",
       "\n",
       "    .dataframe thead th {\n",
       "        text-align: right;\n",
       "    }\n",
       "</style>\n",
       "<table border=\"1\" class=\"dataframe\">\n",
       "  <thead>\n",
       "    <tr style=\"text-align: right;\">\n",
       "      <th></th>\n",
       "      <th>Metric</th>\n",
       "      <th>Value</th>\n",
       "      <th>Classifier</th>\n",
       "    </tr>\n",
       "  </thead>\n",
       "  <tbody>\n",
       "    <tr>\n",
       "      <th>0</th>\n",
       "      <td>accuracy</td>\n",
       "      <td>0.891626</td>\n",
       "      <td>decisionTree</td>\n",
       "    </tr>\n",
       "    <tr>\n",
       "      <th>1</th>\n",
       "      <td>accuracy</td>\n",
       "      <td>0.881773</td>\n",
       "      <td>KNN</td>\n",
       "    </tr>\n",
       "    <tr>\n",
       "      <th>2</th>\n",
       "      <td>accuracy</td>\n",
       "      <td>0.891626</td>\n",
       "      <td>svc</td>\n",
       "    </tr>\n",
       "    <tr>\n",
       "      <th>3</th>\n",
       "      <td>precision</td>\n",
       "      <td>0.891694</td>\n",
       "      <td>decisionTree</td>\n",
       "    </tr>\n",
       "    <tr>\n",
       "      <th>4</th>\n",
       "      <td>precision</td>\n",
       "      <td>0.886036</td>\n",
       "      <td>KNN</td>\n",
       "    </tr>\n",
       "    <tr>\n",
       "      <th>5</th>\n",
       "      <td>precision</td>\n",
       "      <td>0.891565</td>\n",
       "      <td>svc</td>\n",
       "    </tr>\n",
       "    <tr>\n",
       "      <th>6</th>\n",
       "      <td>f1_score</td>\n",
       "      <td>0.891565</td>\n",
       "      <td>decisionTree</td>\n",
       "    </tr>\n",
       "    <tr>\n",
       "      <th>7</th>\n",
       "      <td>f1_score</td>\n",
       "      <td>0.881002</td>\n",
       "      <td>KNN</td>\n",
       "    </tr>\n",
       "    <tr>\n",
       "      <th>8</th>\n",
       "      <td>f1_score</td>\n",
       "      <td>0.891572</td>\n",
       "      <td>svc</td>\n",
       "    </tr>\n",
       "    <tr>\n",
       "      <th>9</th>\n",
       "      <td>recall</td>\n",
       "      <td>0.891626</td>\n",
       "      <td>decisionTree</td>\n",
       "    </tr>\n",
       "    <tr>\n",
       "      <th>10</th>\n",
       "      <td>recall</td>\n",
       "      <td>0.881773</td>\n",
       "      <td>KNN</td>\n",
       "    </tr>\n",
       "    <tr>\n",
       "      <th>11</th>\n",
       "      <td>recall</td>\n",
       "      <td>0.891626</td>\n",
       "      <td>svc</td>\n",
       "    </tr>\n",
       "  </tbody>\n",
       "</table>\n",
       "</div>"
      ],
      "text/plain": [
       "       Metric     Value    Classifier\n",
       "0    accuracy  0.891626  decisionTree\n",
       "1    accuracy  0.881773           KNN\n",
       "2    accuracy  0.891626           svc\n",
       "3   precision  0.891694  decisionTree\n",
       "4   precision  0.886036           KNN\n",
       "5   precision  0.891565           svc\n",
       "6    f1_score  0.891565  decisionTree\n",
       "7    f1_score  0.881002           KNN\n",
       "8    f1_score  0.891572           svc\n",
       "9      recall  0.891626  decisionTree\n",
       "10     recall  0.881773           KNN\n",
       "11     recall  0.891626           svc"
      ]
     },
     "execution_count": 187,
     "metadata": {},
     "output_type": "execute_result"
    }
   ],
   "source": [
    "best_results"
   ]
  },
  {
   "cell_type": "markdown",
   "metadata": {},
   "source": [
    "# Redimensionando a base "
   ]
  },
  {
   "cell_type": "code",
   "execution_count": 194,
   "metadata": {},
   "outputs": [],
   "source": [
    "# REDIMENSIONANDO A BASE\n",
    "\n",
    "from sklearn.utils import resample\n",
    "\n",
    "base_suspicious=(base[base.Result==0])\n",
    "base_legitimate=(base[base.Result==1])\n",
    "base_pishing=(base[base.Result==-1])\n",
    " \n",
    "base_suspicious_upsampled = resample(base_suspicious, replace=True, n_samples=702, random_state=None) \n",
    "base_legitimate_upsampled = resample(base_legitimate, replace=True, n_samples=702, random_state=None) \n",
    " \n",
    "base_upsampled = pd.concat([base_pishing, base_suspicious_upsampled, base_legitimate_upsampled])"
   ]
  },
  {
   "cell_type": "markdown",
   "metadata": {},
   "source": [
    "# Descrevendo a base redimensionada"
   ]
  },
  {
   "cell_type": "code",
   "execution_count": 189,
   "metadata": {},
   "outputs": [
    {
     "name": "stdout",
     "output_type": "stream",
     "text": [
      "<class 'pandas.core.frame.DataFrame'>\n",
      "RangeIndex: 1353 entries, 0 to 1352\n",
      "Data columns (total 10 columns):\n",
      " #   Column             Non-Null Count  Dtype\n",
      "---  ------             --------------  -----\n",
      " 0   SFH                1353 non-null   int64\n",
      " 1   popUpWidnow        1353 non-null   int64\n",
      " 2   SSLfinal_State     1353 non-null   int64\n",
      " 3   Request_URL        1353 non-null   int64\n",
      " 4   URL_of_Anchor      1353 non-null   int64\n",
      " 5   web_traffic        1353 non-null   int64\n",
      " 6   URL_Length         1353 non-null   int64\n",
      " 7   age_of_domain      1353 non-null   int64\n",
      " 8   having_IP_Address  1353 non-null   int64\n",
      " 9   Result             1353 non-null   int64\n",
      "dtypes: int64(10)\n",
      "memory usage: 105.8 KB\n"
     ]
    },
    {
     "data": {
      "image/png": "[encoded data removed]",
      "text/plain": [
       "<Figure size 432x288 with 1 Axes>"
      ]
     },
     "metadata": {
      "needs_background": "light"
     },
     "output_type": "display_data"
    }
   ],
   "source": [
    "sns.countplot(base_upsampled['Result'])\n",
    "base.info()"
   ]
  },
  {
   "cell_type": "code",
   "execution_count": 198,
   "metadata": {},
   "outputs": [
    {
     "data": {
      "text/plain": [
       "<matplotlib.axes._subplots.AxesSubplot at 0x1acf0293a88>"
      ]
     },
     "execution_count": 198,
     "metadata": {},
     "output_type": "execute_result"
    },
    {
     "data": {
      "image/png": "[encoded data removed]",
      "text/plain": [
       "<Figure size 432x288 with 1 Axes>"
      ]
     },
     "metadata": {
      "needs_background": "light"
     },
     "output_type": "display_data"
    }
   ],
   "source": [
    "sns.countplot(base['Result'])"
   ]
  },
  {
   "cell_type": "markdown",
   "metadata": {},
   "source": [
    "# Treinando a base redimensionada com os classificadores e calculando as métricas"
   ]
  },
  {
   "cell_type": "code",
   "execution_count": 190,
   "metadata": {},
   "outputs": [],
   "source": [
    "# definindo os previsores e a classe\n",
    "predictors2 = base_upsampled.iloc[:, 0:9].values\n",
    "classe2 = base_upsampled.iloc[:, 9].values\n",
    "\n",
    "# dividindo a base em treinamento e teste\n",
    "from sklearn.model_selection import train_test_split\n",
    "predictors_training2, predictors_test2, classe_training2, classe_test2 = train_test_split(predictors2, classe2, test_size=0.25, random_state=0)\n",
    "\n",
    "# GAUSSIAN NB\n",
    "from sklearn.naive_bayes import GaussianNB\n",
    "classifier12 = GaussianNB()\n",
    "classifier12.fit(predictors_training2, classe_training2)\n",
    "predictions_gaussianNB2 = classifier1.predict(predictors_test2)\n",
    "\n",
    "#ACURÁCIA\n",
    "accuracy_gaussian2 = accuracy_score(classe_test2, predictions_gaussianNB2)\n",
    "\n",
    "#F1 SCORE\n",
    "f1_score_gaussian2 = f1_score(classe_test2, predictions_gaussianNB2, average='weighted')\n",
    "\n",
    "#RECALL\n",
    "recall_gaussian2 = recall_score(classe_test2, predictions_gaussianNB2, average='weighted')\n",
    "\n",
    "#PRECISÃO\n",
    "precision_gaussian2 = precision_score(classe_test2, predictions_gaussianNB2, average='weighted')\n",
    "\n",
    "# DECISION TREE\n",
    "from sklearn.tree import DecisionTreeClassifier\n",
    "classifier22 = DecisionTreeClassifier()\n",
    "classifier22.fit(predictors_training2, classe_training2)\n",
    "predictions_decisionTree2 = classifier22.predict(predictors_test2)\n",
    "\n",
    "#ACURÁCIA\n",
    "accuracy_decisionTree2 = accuracy_score(classe_test2, predictions_decisionTree2)\n",
    "\n",
    "#F1 SCORE\n",
    "f1_score_decisionTree2 = f1_score(classe_test2, predictions_decisionTree2, average='weighted')\n",
    "\n",
    "#RECALL\n",
    "recall_decisionTree2 = recall_score(classe_test2, predictions_decisionTree2, average='weighted')\n",
    "\n",
    "#PRECISÃO\n",
    "precision_decisionTree2 = precision_score(classe_test2, predictions_decisionTree2, average='weighted')\n",
    "\n",
    "#LOGISTIC REGRESSION\n",
    "from sklearn.linear_model import LogisticRegression\n",
    "classifier32 = LogisticRegression()\n",
    "classifier32.fit(predictors_training2, classe_training2)\n",
    "predictions_logisticRegression2 = classifier32.predict(predictors_test2)\n",
    "\n",
    "#ACURÁCIA\n",
    "accuracy_logisticRegression2 = accuracy_score(classe_test2, predictions_logisticRegression2)\n",
    "\n",
    "#F1 SCORE\n",
    "f1_score_logisticRegression2 = f1_score(classe_test2, predictions_logisticRegression2, average='weighted')\n",
    "\n",
    "#RECALL\n",
    "recall_logisticRegression2 = recall_score(classe_test2, predictions_logisticRegression2, average='weighted')\n",
    "\n",
    "#PRECISÃO\n",
    "precision_logisticRegression2 = precision_score(classe_test2, predictions_logisticRegression2, average='weighted')\n",
    "\n",
    "#KNN\n",
    "from sklearn.neighbors import KNeighborsClassifier\n",
    "classifier42 = KNeighborsClassifier()\n",
    "classifier42.fit(predictors_training2, classe_training2)\n",
    "predictions_KNN2 = classifier42.predict(predictors_test2)\n",
    "\n",
    "#ACURÁCIA\n",
    "accuracy_KNN2 = accuracy_score(classe_test2, predictions_KNN2)\n",
    "\n",
    "#F1 SCORE\n",
    "f1_score_KNN2 = f1_score(classe_test2, predictions_KNN2, average='weighted')\n",
    "\n",
    "#RECALL\n",
    "recall_KNN2 = recall_score(classe_test2, predictions_KNN2, average='weighted')\n",
    "\n",
    "#PRECISÃO\n",
    "precision_KNN2 = precision_score(classe_test2, predictions_KNN2, average='weighted')\n",
    "\n",
    "#SVC\n",
    "from sklearn.svm import SVC\n",
    "classifier52 = SVC(C=8.0)\n",
    "classifier52.fit(predictors_training2, classe_training2)\n",
    "predictions_svc2 = classifier52.predict(predictors_test2)\n",
    "\n",
    "#ACURÁCIA\n",
    "accuracy_svc2 = accuracy_score(classe_test2, predictions_svc2)\n",
    "\n",
    "#F1 SCORE\n",
    "f1_score_svc2 = f1_score(classe_test2, predictions_svc2, average='weighted')\n",
    "\n",
    "#RECALL\n",
    "recall_svc2 = recall_score(classe_test2, predictions_svc2, average='weighted')\n",
    "\n",
    "#PRECISÃO\n",
    "precision_svc2 = precision_score(classe_test2, predictions_svc2, average='weighted')"
   ]
  },
  {
   "cell_type": "markdown",
   "metadata": {},
   "source": [
    "# Salvando em CSV"
   ]
  },
  {
   "cell_type": "code",
   "execution_count": 191,
   "metadata": {},
   "outputs": [],
   "source": [
    "#SALVANDO RESULTADOS EM CSV - formato para plotar o gráfico\n",
    "\n",
    "with open('graphic_result_upscaled.csv', 'w', newline='') as file:\n",
    "    fieldnames = ['Metric', 'Value', 'Classifier']\n",
    "    writer = csv.DictWriter(file, fieldnames=fieldnames)\n",
    "    writer.writeheader()     \n",
    "    \n",
    "    metrics = ['accuracy', 'precision', 'f1_score', 'recall']\n",
    "    classifiers = ['gaussian', 'decisionTree', 'logisticRegression', 'KNN', 'svc']\n",
    "    \n",
    "    for i in metrics:\n",
    "        for j in classifiers:\n",
    "            value_name = i+'_'+j+'2'\n",
    "            writer.writerow({'Metric': i, 'Value': eval(value_name), 'Classifier': j})\n",
    "            \n",
    "            \n",
    "#SALVANDO RESULTADOS EM CSV - formato para leitura\n",
    "\n",
    "with open('read_results_upscaled.csv', 'w', newline='') as file:\n",
    "    fieldnames = ['Classifier', 'Accuracy', 'Precision', 'Recall', 'F1 Score']\n",
    "    writer = csv.DictWriter(file, fieldnames=fieldnames)\n",
    "    writer.writeheader()\n",
    "    \n",
    "    writer.writerow({'Classifier': 'GaussianNB', 'Accuracy': accuracy_gaussian2, 'Precision': precision_gaussian2, 'Recall': recall_gaussian2, 'F1 Score': f1_score_gaussian2})\n",
    "    writer.writerow({'Classifier': 'Decision Tree', 'Accuracy': accuracy_decisionTree2, 'Precision': precision_decisionTree2, 'Recall': recall_decisionTree2, 'F1 Score': f1_score_decisionTree2})\n",
    "    writer.writerow({'Classifier': 'Logistic Regression', 'Accuracy': accuracy_logisticRegression2, 'Precision': precision_logisticRegression2, 'Recall': recall_logisticRegression2, 'F1 Score': f1_score_logisticRegression2})\n",
    "    writer.writerow({'Classifier': 'KNN', 'Accuracy': accuracy_KNN2, 'Precision': precision_KNN2, 'Recall': recall_KNN2, 'F1 Score': f1_score_KNN2})\n",
    "    writer.writerow({'Classifier': 'SVC', 'Accuracy': accuracy_svc2, 'Precision': precision_svc2, 'Recall': recall_svc2, 'F1 Score': f1_score_svc2})"
   ]
  },
  {
   "cell_type": "markdown",
   "metadata": {},
   "source": [
    "# Visualizando os novos resultados"
   ]
  },
  {
   "cell_type": "code",
   "execution_count": 196,
   "metadata": {},
   "outputs": [
    {
     "data": {
      "text/html": [
       "<div>\n",
       "<style scoped>\n",
       "    .dataframe tbody tr th:only-of-type {\n",
       "        vertical-align: middle;\n",
       "    }\n",
       "\n",
       "    .dataframe tbody tr th {\n",
       "        vertical-align: top;\n",
       "    }\n",
       "\n",
       "    .dataframe thead th {\n",
       "        text-align: right;\n",
       "    }\n",
       "</style>\n",
       "<table border=\"1\" class=\"dataframe\">\n",
       "  <thead>\n",
       "    <tr style=\"text-align: right;\">\n",
       "      <th></th>\n",
       "      <th>Classifier</th>\n",
       "      <th>Accuracy</th>\n",
       "      <th>Precision</th>\n",
       "      <th>Recall</th>\n",
       "      <th>F1 Score</th>\n",
       "    </tr>\n",
       "  </thead>\n",
       "  <tbody>\n",
       "    <tr>\n",
       "      <th>0</th>\n",
       "      <td>GaussianNB</td>\n",
       "      <td>0.637571</td>\n",
       "      <td>0.664619</td>\n",
       "      <td>0.637571</td>\n",
       "      <td>0.576567</td>\n",
       "    </tr>\n",
       "    <tr>\n",
       "      <th>1</th>\n",
       "      <td>Decision Tree</td>\n",
       "      <td>0.937381</td>\n",
       "      <td>0.936993</td>\n",
       "      <td>0.937381</td>\n",
       "      <td>0.936965</td>\n",
       "    </tr>\n",
       "    <tr>\n",
       "      <th>2</th>\n",
       "      <td>Logistic Regression</td>\n",
       "      <td>0.738140</td>\n",
       "      <td>0.749753</td>\n",
       "      <td>0.738140</td>\n",
       "      <td>0.737902</td>\n",
       "    </tr>\n",
       "    <tr>\n",
       "      <th>3</th>\n",
       "      <td>KNN</td>\n",
       "      <td>0.907021</td>\n",
       "      <td>0.908476</td>\n",
       "      <td>0.907021</td>\n",
       "      <td>0.906045</td>\n",
       "    </tr>\n",
       "    <tr>\n",
       "      <th>4</th>\n",
       "      <td>SVC</td>\n",
       "      <td>0.939279</td>\n",
       "      <td>0.939003</td>\n",
       "      <td>0.939279</td>\n",
       "      <td>0.938847</td>\n",
       "    </tr>\n",
       "  </tbody>\n",
       "</table>\n",
       "</div>"
      ],
      "text/plain": [
       "            Classifier  Accuracy  Precision    Recall  F1 Score\n",
       "0           GaussianNB  0.637571   0.664619  0.637571  0.576567\n",
       "1        Decision Tree  0.937381   0.936993  0.937381  0.936965\n",
       "2  Logistic Regression  0.738140   0.749753  0.738140  0.737902\n",
       "3                  KNN  0.907021   0.908476  0.907021  0.906045\n",
       "4                  SVC  0.939279   0.939003  0.939279  0.938847"
      ]
     },
     "execution_count": 196,
     "metadata": {},
     "output_type": "execute_result"
    }
   ],
   "source": [
    "readable_upscaled = pd.read_csv('read_results_upscaled.csv')\n",
    "readable_upscaled"
   ]
  },
  {
   "cell_type": "code",
   "execution_count": 197,
   "metadata": {},
   "outputs": [
    {
     "data": {
      "text/html": [
       "<div>\n",
       "<style scoped>\n",
       "    .dataframe tbody tr th:only-of-type {\n",
       "        vertical-align: middle;\n",
       "    }\n",
       "\n",
       "    .dataframe tbody tr th {\n",
       "        vertical-align: top;\n",
       "    }\n",
       "\n",
       "    .dataframe thead th {\n",
       "        text-align: right;\n",
       "    }\n",
       "</style>\n",
       "<table border=\"1\" class=\"dataframe\">\n",
       "  <thead>\n",
       "    <tr style=\"text-align: right;\">\n",
       "      <th></th>\n",
       "      <th>Classifier</th>\n",
       "      <th>Accuracy</th>\n",
       "      <th>Precision</th>\n",
       "      <th>Recall</th>\n",
       "      <th>F1 Score</th>\n",
       "    </tr>\n",
       "  </thead>\n",
       "  <tbody>\n",
       "    <tr>\n",
       "      <th>0</th>\n",
       "      <td>GaussianNB</td>\n",
       "      <td>0.783251</td>\n",
       "      <td>0.766997</td>\n",
       "      <td>0.783251</td>\n",
       "      <td>0.765167</td>\n",
       "    </tr>\n",
       "    <tr>\n",
       "      <th>1</th>\n",
       "      <td>Decision Tree</td>\n",
       "      <td>0.891626</td>\n",
       "      <td>0.891694</td>\n",
       "      <td>0.891626</td>\n",
       "      <td>0.891565</td>\n",
       "    </tr>\n",
       "    <tr>\n",
       "      <th>2</th>\n",
       "      <td>Logistic Regression</td>\n",
       "      <td>0.778325</td>\n",
       "      <td>0.757373</td>\n",
       "      <td>0.778325</td>\n",
       "      <td>0.761545</td>\n",
       "    </tr>\n",
       "    <tr>\n",
       "      <th>3</th>\n",
       "      <td>KNN</td>\n",
       "      <td>0.881773</td>\n",
       "      <td>0.886036</td>\n",
       "      <td>0.881773</td>\n",
       "      <td>0.881002</td>\n",
       "    </tr>\n",
       "    <tr>\n",
       "      <th>4</th>\n",
       "      <td>SVC</td>\n",
       "      <td>0.891626</td>\n",
       "      <td>0.891565</td>\n",
       "      <td>0.891626</td>\n",
       "      <td>0.891572</td>\n",
       "    </tr>\n",
       "  </tbody>\n",
       "</table>\n",
       "</div>"
      ],
      "text/plain": [
       "            Classifier  Accuracy  Precision    Recall  F1 Score\n",
       "0           GaussianNB  0.783251   0.766997  0.783251  0.765167\n",
       "1        Decision Tree  0.891626   0.891694  0.891626  0.891565\n",
       "2  Logistic Regression  0.778325   0.757373  0.778325  0.761545\n",
       "3                  KNN  0.881773   0.886036  0.881773  0.881002\n",
       "4                  SVC  0.891626   0.891565  0.891626  0.891572"
      ]
     },
     "execution_count": 197,
     "metadata": {},
     "output_type": "execute_result"
    }
   ],
   "source": [
    "results_readable"
   ]
  },
  {
   "cell_type": "markdown",
   "metadata": {},
   "source": [
    "# Gráfico Comparativo de Acurácia, Precisão, F1 Score e Recall na Base Redimensionada"
   ]
  },
  {
   "cell_type": "code",
   "execution_count": 193,
   "metadata": {
    "scrolled": true
   },
   "outputs": [
    {
     "data": {
      "text/plain": [
       "<seaborn.axisgrid.FacetGrid at 0x1aceffe7608>"
      ]
     },
     "execution_count": 193,
     "metadata": {},
     "output_type": "execute_result"
    },
    {
     "data": {
      "image/png": "[encoded data removed]",
      "text/plain": [
       "<Figure size 991x288 with 1 Axes>"
      ]
     },
     "metadata": {
      "needs_background": "light"
     },
     "output_type": "display_data"
    }
   ],
   "source": [
    "upscaled = pd.read_csv('graphic_result_upscaled.csv')\n",
    "sns.catplot(x='Metric', y='Value', hue='Classifier', data=formated, kind='bar', height=4, aspect=3)"
   ]
  },
  {
   "cell_type": "code",
   "execution_count": null,
   "metadata": {},
   "outputs": [],
   "source": []
  },
  {
   "cell_type": "code",
   "execution_count": null,
   "metadata": {},
   "outputs": [],
   "source": []
  }
 ],
 "metadata": {
  "kernelspec": {
   "display_name": "Python 3",
   "language": "python",
   "name": "python3"
  },
  "language_info": {
   "codemirror_mode": {
    "name": "ipython",
    "version": 3
   },
   "file_extension": ".py",
   "mimetype": "text/x-python",
   "name": "python",
   "nbconvert_exporter": "python",
   "pygments_lexer": "ipython3",
   "version": "3.7.6"
  }
 },
 "nbformat": 4,
 "nbformat_minor": 4
}
